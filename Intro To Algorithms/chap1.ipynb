{
 "cells": [
  {
   "cell_type": "markdown",
   "metadata": {},
   "source": [
    "# 序言\n",
    "\n",
    "* 复习欧几里得算法\n",
    "    * 原理：两个整数的最大公约数等于其中较小的数和两数相除余数的最大公约数\n",
    "    * 辗转相除法：gcd(a, b) = gcd(b, a mod b)"
   ]
  },
  {
   "cell_type": "code",
   "execution_count": 1,
   "metadata": {},
   "outputs": [
    {
     "data": {
      "text/plain": [
       "3"
      ]
     },
     "execution_count": 1,
     "metadata": {},
     "output_type": "execute_result"
    }
   ],
   "source": [
    "def gcd(p, q):\n",
    "    if q == 0: return p\n",
    "    return gcd(q, p % q)\n",
    "gcd(12, 15)"
   ]
  },
  {
   "cell_type": "markdown",
   "metadata": {},
   "source": [
    "# 1.1 基础编程模型\n",
    "## 1.1.1 程序基本结构\n",
    "1. Primitive data types：int, float, boolean, char -> 成为expression\n",
    "2. Statements：declaration, assignment, conditional, loop, method invocation, return\n",
    "3. Array\n",
    "4. Static methods\n",
    "5. Strings\n",
    "6. IO\n",
    "7. Data abstraction\n",
    "## 1.1.5 数组\n",
    "一维数组\n",
    "* 声明数组\n",
    "* 创建数组\n",
    "* 初始化数组"
   ]
  },
  {
   "cell_type": "code",
   "execution_count": null,
   "metadata": {},
   "outputs": [],
   "source": [
    "# Necessary operation for arrays\n",
    "def max_array(arr):\n",
    "    max = arr[0]\n",
    "    for i in range(1, len(arr)):\n",
    "        if arr[i] > max:\n",
    "            max = arr[i]\n",
    "    return max\n",
    "\n",
    "def avg_array(arr):\n",
    "    sum = 0\n",
    "    for i in range(len(arr)):\n",
    "        sum += arr[i]\n",
    "    return sum / len(arr)\n",
    "\n",
    "def copy_array(arr):\n",
    "    new_arr = []\n",
    "    for i in range(len(arr)):\n",
    "        new_arr.append(arr[i])\n",
    "    return new_arr\n",
    "\n",
    "def reverse_array(arr):\n",
    "    N = len(arr)\n",
    "    for i in range(N / 2):\n",
    "        arr[i], arr[N - i - 1] = arr[N - i - 1], arr[i]\n",
    "\n",
    "def matrix_multiple(mat1, mat2):\n",
    "    # mat1: N x K\n",
    "    # mat2: K x M\n",
    "    N = len(mat1)\n",
    "    M = len(mat2[0])\n",
    "    K = len(mat2)\n",
    "    result = [[0 for i in range(M)] for j in range(N)]\n",
    "    for i in range(N):\n",
    "        for j in range(M):\n",
    "            for k in range(K):\n",
    "                result[i][j] += mat1[i][k] * mat2[k][j]\n",
    "    return result"
   ]
  },
  {
   "cell_type": "markdown",
   "metadata": {},
   "source": [
    "## 1.1.6 静态方法\n",
    "* python def，下面是一些常用方法的定义\n",
    "    * abs\n",
    "    * isPrime\n",
    "    * sqrt: using Newton's method\n",
    "    * calculate the hypotenuse of a right triangle\n",
    "    * calculate the harmonic number\n",
    "* 调用方法\n",
    "* 模块化编程\n",
    "* 单元测试\n",
    "* 外部库\n",
    "\n",
    "## 1.1.8 字符串\n",
    "* 拼接字符串\n",
    "* 字符串转换其他类型\n",
    "* 命令行参数处理。\n",
    "\n",
    "## 1.1.9 IO\n",
    "\n",
    "## 1.1.10 二分查找(见下面的snippet)\n",
    "* 性能\n"
   ]
  },
  {
   "cell_type": "code",
   "execution_count": null,
   "metadata": {},
   "outputs": [],
   "source": [
    "def rank(key, arr):\n",
    "    lo = 0\n",
    "    hi = len(arr) - 1\n",
    "    while lo <= hi:\n",
    "        mid = lo + (hi - lo) / 2\n",
    "        if arr[mid] == key:\n",
    "            return mid\n",
    "        elif arr[mid] < key:\n",
    "            lo = mid + 1\n",
    "        else:\n",
    "            hi = mid - 1\n",
    "    return -1"
   ]
  }
 ],
 "metadata": {
  "kernelspec": {
   "display_name": "Python 3",
   "language": "python",
   "name": "python3"
  },
  "language_info": {
   "codemirror_mode": {
    "name": "ipython",
    "version": 3
   },
   "file_extension": ".py",
   "mimetype": "text/x-python",
   "name": "python",
   "nbconvert_exporter": "python",
   "pygments_lexer": "ipython3",
   "version": "3.10.11"
  }
 },
 "nbformat": 4,
 "nbformat_minor": 2
}
