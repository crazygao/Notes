{
 "cells": [
  {
   "cell_type": "markdown",
   "metadata": {},
   "source": [
    "# 序言\n",
    "    * 复习欧几里得算法\n",
    "        * 原理：两个整数的最大公约数等于其中较小的数和两数相除余数的最大公约数\n",
    "        * 辗转相除法：gcd(a, b) = gcd(b, a mod b)"
   ]
  },
  {
   "cell_type": "code",
   "execution_count": 1,
   "metadata": {},
   "outputs": [
    {
     "data": {
      "text/plain": [
       "3"
      ]
     },
     "execution_count": 1,
     "metadata": {},
     "output_type": "execute_result"
    }
   ],
   "source": [
    "def gcd(p, q):\n",
    "    if q == 0: return p\n",
    "    return gcd(q, p % q)\n",
    "gcd(12, 15)"
   ]
  },
  {
   "cell_type": "markdown",
   "metadata": {},
   "source": [
    "# 1.1 基础编程模型\n",
    "## 1.1.1 程序基本结构\n",
    "1. Primitive data types：int, float, boolean, char -> 成为expression\n",
    "2. Statements：declaration, assignment, conditional, loop, method invocation, return\n",
    "3. Array\n",
    "4. Static methods\n",
    "5. Strings\n",
    "6. IO\n",
    "7. Data abstraction"
   ]
  }
 ],
 "metadata": {
  "kernelspec": {
   "display_name": "Python 3",
   "language": "python",
   "name": "python3"
  },
  "language_info": {
   "codemirror_mode": {
    "name": "ipython",
    "version": 3
   },
   "file_extension": ".py",
   "mimetype": "text/x-python",
   "name": "python",
   "nbconvert_exporter": "python",
   "pygments_lexer": "ipython3",
   "version": "3.10.11"
  }
 },
 "nbformat": 4,
 "nbformat_minor": 2
}
