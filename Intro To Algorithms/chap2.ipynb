{
 "cells": [
  {
   "cell_type": "markdown",
   "metadata": {},
   "source": [
    "# 排序\n",
    "* 30%时间要先排序\n",
    "\n",
    "* 用个Example类表达一下约定。\n",
    "\n",
    "* 验证\n",
    "    * 运行时间\n",
    "    * 额外内存使用\n",
    "    * \n"
   ]
  },
  {
   "cell_type": "code",
   "execution_count": null,
   "metadata": {},
   "outputs": [],
   "source": [
    "class Example:\n",
    "    def __init__(self):\n",
    "        pass\n",
    "\n",
    "    def sort(self, a):\n",
    "        pass\n",
    "\n",
    "    def less(self, v, w):\n",
    "        return v.compareTo(w) < 0\n",
    "\n",
    "    def exch(self, a, i, j):\n",
    "        t = a[i]\n",
    "        a[i] = a[j]\n",
    "        a[j] = t\n",
    "\n",
    "    def show(self, a):\n",
    "        for i in a:\n",
    "            print(i, end=' ')\n",
    "        print()\n",
    "\n",
    "    def isSorted(self, a):\n",
    "        for i in range(1, len(a)):\n",
    "            if self.less(a[i], a[i-1]):\n",
    "                return False\n",
    "        return True\n",
    "\n",
    "def main(a):\n",
    "    example = Example()\n",
    "    example.sort(a)\n",
    "    assert example.isSorted(a)\n",
    "    example.show(a)"
   ]
  }
 ],
 "metadata": {
  "kernelspec": {
   "display_name": "Python 3",
   "language": "python",
   "name": "python3"
  },
  "language_info": {
   "codemirror_mode": {
    "name": "ipython",
    "version": 3
   },
   "file_extension": ".py",
   "mimetype": "text/x-python",
   "name": "python",
   "nbconvert_exporter": "python",
   "pygments_lexer": "ipython3",
   "version": "3.11.6"
  }
 },
 "nbformat": 4,
 "nbformat_minor": 2
}
